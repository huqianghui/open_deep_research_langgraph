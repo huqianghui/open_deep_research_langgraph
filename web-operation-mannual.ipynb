{
 "cells": [
  {
   "cell_type": "markdown",
   "metadata": {},
   "source": [
    "## init page view\n"
   ]
  },
  {
   "cell_type": "markdown",
   "metadata": {},
   "source": [
    "![start](./images/start.jpg)\n"
   ]
  },
  {
   "cell_type": "markdown",
   "metadata": {},
   "source": [
    "you can modify the configuration by clicking manage button.\n",
    "\n",
    "![configure](./images/configure.jpg)\n",
    "\n",
    "\n",
    "\n",
    "\n"
   ]
  },
  {
   "cell_type": "markdown",
   "metadata": {},
   "source": [
    "## input your topic to start a session\n",
    "\n",
    "such as:\n",
    "\n",
    "Please analyze Microsoft’s stock market performance in 2025 and provide an investment recommendation report."
   ]
  },
  {
   "cell_type": "markdown",
   "metadata": {},
   "source": [
    "![input](./images/input.jpg)"
   ]
  },
  {
   "cell_type": "markdown",
   "metadata": {},
   "source": [
    "click the continue button\n",
    "\n",
    "![continue](./images/continue.jpg)"
   ]
  },
  {
   "cell_type": "markdown",
   "metadata": {},
   "source": [
    "if you have more ideas，you can input your feedback， Notice: ***feed back must be input in quota like \"your feedback\"**， then click resume button to continue the process\n",
    "\n",
    "![human_feedback](./images/human_feedback.jpg)\n",
    "\n",
    "\n",
    "\n",
    "\n",
    "\n"
   ]
  },
  {
   "cell_type": "markdown",
   "metadata": {},
   "source": [
    "if you accept it, please input true，Notice: ***true don't need be input in quota**， click the resume button to continue process\n",
    "\n",
    "![true](./images/true.jpg)\n",
    "\n"
   ]
  }
 ],
 "metadata": {
  "language_info": {
   "name": "python"
  }
 },
 "nbformat": 4,
 "nbformat_minor": 2
}
